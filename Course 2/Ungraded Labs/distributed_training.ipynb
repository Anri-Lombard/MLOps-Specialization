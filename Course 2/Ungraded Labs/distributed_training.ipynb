{
  "cells": [
    {
      "cell_type": "markdown",
      "metadata": {
        "id": "Tce3stUlHN0L"
      },
      "source": [
        "##### Copyright 2018 The TensorFlow Authors.\n"
      ]
    },
    {
      "cell_type": "code",
      "execution_count": 1,
      "metadata": {
        "cellView": "form",
        "id": "tuOe1ymfHZPu"
      },
      "outputs": [],
      "source": [
        "#@title Licensed under the Apache License, Version 2.0 (the \"License\");\n",
        "# you may not use this file except in compliance with the License.\n",
        "# You may obtain a copy of the License at\n",
        "#\n",
        "# https://www.apache.org/licenses/LICENSE-2.0\n",
        "#\n",
        "# Unless required by applicable law or agreed to in writing, software\n",
        "# distributed under the License is distributed on an \"AS IS\" BASIS,\n",
        "# WITHOUT WARRANTIES OR CONDITIONS OF ANY KIND, either express or implied.\n",
        "# See the License for the specific language governing permissions and\n",
        "# limitations under the License."
      ]
    },
    {
      "cell_type": "markdown",
      "metadata": {
        "id": "MfBg1C5NB3X0"
      },
      "source": [
        "# Distributed training with TensorFlow"
      ]
    },
    {
      "cell_type": "markdown",
      "metadata": {
        "id": "r6P32iYYV27b"
      },
      "source": [
        "<table class=\"tfo-notebook-buttons\" align=\"left\">\n",
        "  <td>\n",
        "    <a target=\"_blank\" href=\"https://www.tensorflow.org/guide/distributed_training\"><img src=\"https://www.tensorflow.org/images/tf_logo_32px.png\" />View on TensorFlow.org</a>\n",
        "  </td>\n",
        "  <td>\n",
        "    <a target=\"_blank\" href=\"https://colab.research.google.com/github/tensorflow/docs/blob/master/site/en/guide/distributed_training.ipynb\"><img src=\"https://www.tensorflow.org/images/colab_logo_32px.png\" />Run in Google Colab</a>\n",
        "  </td>\n",
        "  <td>\n",
        "    <a target=\"_blank\" href=\"https://github.com/tensorflow/docs/blob/master/site/en/guide/distributed_training.ipynb\"><img src=\"https://www.tensorflow.org/images/GitHub-Mark-32px.png\" />View source on GitHub</a>\n",
        "  </td>\n",
        "  <td>\n",
        "    <a href=\"https://storage.googleapis.com/tensorflow_docs/docs/site/en/guide/distributed_training.ipynb\"><img src=\"https://www.tensorflow.org/images/download_logo_32px.png\" />Download notebook</a>\n",
        "  </td>\n",
        "</table>"
      ]
    },
    {
      "cell_type": "markdown",
      "metadata": {
        "id": "xHxb-dlhMIzW"
      },
      "source": [
        "## Overview\n",
        "\n",
        "`tf.distribute.Strategy` is a TensorFlow API to distribute training across multiple GPUs, multiple machines, or TPUs. Using this API, you can distribute your existing models and training code with minimal code changes.\n",
        "\n",
        "`tf.distribute.Strategy` has been designed with these key goals in mind:\n",
        "\n",
        "* Easy to use and support multiple user segments, including researchers, machine learning engineers, etc.\n",
        "* Provide good performance out of the box.\n",
        "* Easy switching between strategies.\n",
        "\n",
        "You can distribute training using `tf.distribute.Strategy` with a high-level API like Keras `Model.fit`, as well as [custom training loops](https://www.tensorflow.org/guide/keras/writing_a_training_loop_from_scratch) (and, in general, any computation using TensorFlow).\n",
        "\n",
        "In TensorFlow 2.x, you can execute your programs eagerly, or in a graph using [`tf.function`](function.ipynb). `tf.distribute.Strategy` intends to support both these modes of execution, but works best with `tf.function`. Eager mode is only recommended for debugging purposes and not supported for `tf.distribute.TPUStrategy`. Although training is the focus of this guide, this API can also be used for distributing evaluation and prediction on different platforms.\n",
        "\n",
        "You can use `tf.distribute.Strategy` with very few changes to your code, because the underlying components of TensorFlow have been changed to become strategy-aware. This includes variables, layers, models, optimizers, metrics, summaries, and checkpoints.\n",
        "\n",
        "In this guide, you will learn about various types of strategies and how you can use them in different situations. To learn how to debug performance issues, check out the [Optimize TensorFlow GPU performance](gpu_performance_analysis.md) guide.\n",
        "\n",
        "Note: For a deeper understanding of the concepts, watch the deep-dive presentation—[Inside TensorFlow: `tf.distribute.Strategy`](https://youtu.be/jKV53r9-H14). This is especially recommended if you plan to write your own training loop.\n"
      ]
    },
    {
      "cell_type": "markdown",
      "metadata": {
        "id": "b3600ee25c8e"
      },
      "source": [
        "## Set up TensorFlow"
      ]
    },
    {
      "cell_type": "code",
      "execution_count": 2,
      "metadata": {
        "id": "EVOZFbNgXghB"
      },
      "outputs": [],
      "source": [
        "import tensorflow as tf"
      ]
    },
    {
      "cell_type": "markdown",
      "metadata": {
        "id": "eQ1QESxxEbCh"
      },
      "source": [
        "## Types of strategies\n",
        "\n",
        "`tf.distribute.Strategy` intends to cover a number of use cases along different axes. Some of these combinations are currently supported and others will be added in the future. Some of these axes are:\n",
        "\n",
        "- *Synchronous vs asynchronous training:* These are two common ways of distributing training with data parallelism. In sync training, all workers train over different slices of input data in sync, and aggregating gradients at each step. In async training, all workers are independently training over the input data and updating variables asynchronously. Typically sync training is supported via all-reduce and async through parameter server architecture.\n",
        "- *Hardware platform:* You may want to scale your training onto multiple GPUs on one machine, or multiple machines in a network (with 0 or more GPUs each), or on Cloud TPUs.\n",
        "\n",
        "In order to support these use cases, TensorFlow has `MirroredStrategy`, `TPUStrategy`, `MultiWorkerMirroredStrategy`, `ParameterServerStrategy`, `CentralStorageStrategy`, as well as other strategies available. The next section explains which of these are supported in which scenarios in TensorFlow. Here is a quick overview:\n",
        "\n",
        "| Training API             | `MirroredStrategy` | `TPUStrategy` | `MultiWorkerMirroredStrategy` | `CentralStorageStrategy` | `ParameterServerStrategy` |\n",
        "| :----------------------- | :----------------- | :------------ | :---------------------------- | :----------------------- | :------------------------ |\n",
        "| **Keras `Model.fit`**    | Supported          | Supported     | Supported                     | Experimental support     | Experimental support      |\n",
        "| **Custom training loop** | Supported          | Supported     | Supported                     | Experimental support     | Experimental support      |\n",
        "| **Estimator API**        | Limited Support    | Not supported | Limited Support               | Limited Support          | Limited Support           |\n",
        "\n",
        "Note: [Experimental support](https://www.tensorflow.org/guide/versions#what_is_not_covered) means the APIs are not covered by any compatibility guarantees.\n",
        "\n",
        "Warning: Estimator support is limited. Basic training and evaluation are experimental, and advanced features—such as scaffold—are not implemented. You should be using Keras or custom training loops if a use case is not covered. Estimators are not recommended for new code. Estimators run `v1.Session`-style code which is more difficult to write correctly, and can behave unexpectedly, especially when combined with TF 2 code. Estimators do fall under our [compatibility guarantees](https://tensorflow.org/guide/versions), but will receive no fixes other than security vulnerabilities. Go to the [migration guide](https://tensorflow.org/guide/migrate) for details."
      ]
    },
    {
      "cell_type": "markdown",
      "metadata": {
        "id": "DoQKKK8dtfg6"
      },
      "source": [
        "### MirroredStrategy\n",
        "\n",
        "`tf.distribute.MirroredStrategy` supports synchronous distributed training on multiple GPUs on one machine. It creates one replica per GPU device. Each variable in the model is mirrored across all the replicas. Together, these variables form a single conceptual variable called `MirroredVariable`. These variables are kept in sync with each other by applying identical updates.\n",
        "\n",
        "Efficient all-reduce algorithms are used to communicate the variable updates across the devices. All-reduce aggregates tensors across all the devices by adding them up, and makes them available on each device. It’s a fused algorithm that is very efficient and can reduce the overhead of synchronization significantly. There are many all-reduce algorithms and implementations available, depending on the type of communication available between devices. By default, it uses the NVIDIA Collective Communication Library ([NCCL](https://developer.nvidia.com/nccl)) as the all-reduce implementation. You can choose from a few other options or write your own.\n",
        "\n",
        "Here is the simplest way of creating `MirroredStrategy`:"
      ]
    },
    {
      "cell_type": "code",
      "execution_count": 3,
      "metadata": {
        "id": "9Z4FMAY9ADxK",
        "outputId": "4cb7e77c-3f71-4e95-9a48-a15af51f0e78",
        "colab": {
          "base_uri": "https://localhost:8080/"
        }
      },
      "outputs": [
        {
          "output_type": "stream",
          "name": "stderr",
          "text": [
            "WARNING:tensorflow:There are non-GPU devices in `tf.distribute.Strategy`, not using nccl allreduce.\n"
          ]
        }
      ],
      "source": [
        "mirrored_strategy = tf.distribute.MirroredStrategy()"
      ]
    },
    {
      "cell_type": "markdown",
      "metadata": {
        "id": "wldY4aFCAH4r"
      },
      "source": [
        "This will create a `MirroredStrategy` instance, which will use all the GPUs that are visible to TensorFlow, and NCCL—as the cross-device communication.\n",
        "\n",
        "If you wish to use only some of the GPUs on your machine, you can do so like this:"
      ]
    },
    {
      "cell_type": "code",
      "execution_count": 4,
      "metadata": {
        "id": "nbGleskCACv_",
        "outputId": "cc27394e-3165-4dca-c3c3-6f498d9d2a60",
        "colab": {
          "base_uri": "https://localhost:8080/"
        }
      },
      "outputs": [
        {
          "output_type": "stream",
          "name": "stderr",
          "text": [
            "WARNING:tensorflow:Some requested devices in `tf.distribute.Strategy` are not visible to TensorFlow: /job:localhost/replica:0/task:0/device:GPU:0,/job:localhost/replica:0/task:0/device:GPU:1\n"
          ]
        }
      ],
      "source": [
        "mirrored_strategy = tf.distribute.MirroredStrategy(devices=[\"/gpu:0\", \"/gpu:1\"])"
      ]
    },
    {
      "cell_type": "markdown",
      "metadata": {
        "id": "8-KDnrJLAhav"
      },
      "source": [
        "If you wish to override the cross device communication, you can do so using the `cross_device_ops` argument by supplying an instance of `tf.distribute.CrossDeviceOps`. Currently, `tf.distribute.HierarchicalCopyAllReduce` and `tf.distribute.ReductionToOneDevice` are two options other than `tf.distribute.NcclAllReduce`, which is the default."
      ]
    },
    {
      "cell_type": "code",
      "execution_count": 5,
      "metadata": {
        "id": "6-xIOIpgBItn"
      },
      "outputs": [],
      "source": [
        "mirrored_strategy = tf.distribute.MirroredStrategy(\n",
        "    cross_device_ops=tf.distribute.HierarchicalCopyAllReduce())"
      ]
    },
    {
      "cell_type": "markdown",
      "metadata": {
        "id": "kPEBCMzsGaO5"
      },
      "source": [
        "### TPUStrategy\n",
        "\n",
        "`tf.distribute.TPUStrategy` lets you run your TensorFlow training on [Tensor Processing Units (TPUs)](tpu.ipynb). TPUs are Google's specialized ASICs designed to dramatically accelerate machine learning workloads. They are available on [Google Colab](https://colab.research.google.com/), the [TPU Research Cloud](https://sites.research.google/trc/), and [Cloud TPU](https://cloud.google.com/tpu).\n",
        "\n",
        "In terms of distributed training architecture, `TPUStrategy` is the same `MirroredStrategy`—it implements synchronous distributed training. TPUs provide their own implementation of efficient all-reduce and other collective operations across multiple TPU cores, which are used in `TPUStrategy`.\n",
        "\n",
        "Here is how you would instantiate `TPUStrategy`:\n",
        "\n",
        "Note: To run any TPU code in Colab, you should select TPU as the Colab runtime. Refer to the [Use TPUs](tpu.ipynb) guide for a complete example.\n",
        "\n",
        "```python\n",
        "cluster_resolver = tf.distribute.cluster_resolver.TPUClusterResolver(\n",
        "    tpu=tpu_address)\n",
        "tf.config.experimental_connect_to_cluster(cluster_resolver)\n",
        "tf.tpu.experimental.initialize_tpu_system(cluster_resolver)\n",
        "tpu_strategy = tf.distribute.TPUStrategy(cluster_resolver)\n",
        "```\n",
        "\n",
        "The `TPUClusterResolver` instance helps locate the TPUs. In Colab, you don't need to specify any arguments to it.\n",
        "\n",
        "If you want to use this for Cloud TPUs:\n",
        "\n",
        "- You must specify the name of your TPU resource in the `tpu` argument.\n",
        "- You must initialize the TPU system explicitly at the *start* of the program. This is required before TPUs can be used for computation. Initializing the TPU system also wipes out the TPU memory, so it's important to complete this step first in order to avoid losing state."
      ]
    },
    {
      "cell_type": "markdown",
      "metadata": {
        "id": "8Xc3gyo0Bejd"
      },
      "source": [
        "### MultiWorkerMirroredStrategy\n",
        "\n",
        "`tf.distribute.MultiWorkerMirroredStrategy` is very similar to `MirroredStrategy`. It implements synchronous distributed training across multiple workers, each with potentially multiple GPUs. Similar to `tf.distribute.MirroredStrategy`, it creates copies of all variables in the model on each device across all workers.\n",
        "\n",
        "Here is the simplest way of creating `MultiWorkerMirroredStrategy`:"
      ]
    },
    {
      "cell_type": "code",
      "execution_count": 6,
      "metadata": {
        "id": "m3a_6ebbEjre",
        "outputId": "cb956813-0b59-4dfd-d4c6-1e37da25a382",
        "colab": {
          "base_uri": "https://localhost:8080/"
        }
      },
      "outputs": [
        {
          "output_type": "stream",
          "name": "stderr",
          "text": [
            "WARNING:tensorflow:Collective ops is not configured at program startup. Some performance features may not be enabled.\n"
          ]
        }
      ],
      "source": [
        "strategy = tf.distribute.MultiWorkerMirroredStrategy()"
      ]
    },
    {
      "cell_type": "markdown",
      "metadata": {
        "id": "bt94JBvhEr4s"
      },
      "source": [
        "`MultiWorkerMirroredStrategy` has two implementations for cross-device communications. `CommunicationImplementation.RING` is [RPC](https://en.wikipedia.org/wiki/Remote_procedure_call)-based and supports both CPUs and GPUs. `CommunicationImplementation.NCCL` uses NCCL and provides state-of-art performance on GPUs but it doesn't support CPUs. `CollectiveCommunication.AUTO` defers the choice to Tensorflow. You can specify them in the following way:\n"
      ]
    },
    {
      "cell_type": "code",
      "execution_count": 7,
      "metadata": {
        "id": "QGX_QAEtFQSv",
        "outputId": "7885464b-0ec3-4e25-e086-b3a34335bfcc",
        "colab": {
          "base_uri": "https://localhost:8080/"
        }
      },
      "outputs": [
        {
          "output_type": "stream",
          "name": "stderr",
          "text": [
            "WARNING:tensorflow:Collective ops is not configured at program startup. Some performance features may not be enabled.\n",
            "WARNING:tensorflow:Enabled NCCL communication but no GPUs detected/specified.\n"
          ]
        }
      ],
      "source": [
        "communication_options = tf.distribute.experimental.CommunicationOptions(\n",
        "    implementation=tf.distribute.experimental.CommunicationImplementation.NCCL)\n",
        "strategy = tf.distribute.MultiWorkerMirroredStrategy(\n",
        "    communication_options=communication_options)"
      ]
    },
    {
      "cell_type": "markdown",
      "metadata": {
        "id": "0JiImlw3F77E"
      },
      "source": [
        "One of the key differences to get multi worker training going, as compared to multi-GPU training, is the multi-worker setup. The `'TF_CONFIG'` environment variable is the standard way in TensorFlow to specify the cluster configuration to each worker that is part of the cluster. Learn more in the [setting up TF_CONFIG section](#TF_CONFIG) of this document.\n",
        "\n",
        "For more details about `MultiWorkerMirroredStrategy`, consider the following tutorials:\n",
        "\n",
        "- [Multi-worker training with Keras Model.fit](../tutorials/distribute/multi_worker_with_keras.ipynb)\n",
        "- [Multi-worker training with a custom training loop](../tutorials/distribute/multi_worker_with_ctl.ipynb)"
      ]
    },
    {
      "cell_type": "markdown",
      "metadata": {
        "id": "3ZLBhaP9NUNr"
      },
      "source": [
        "### ParameterServerStrategy\n",
        "\n",
        "Parameter server training is a common data-parallel method to scale up model training on multiple machines. A parameter server training cluster consists of workers and parameter servers. Variables are created on parameter servers and they are read and updated by workers in each step. Check out the [Parameter server training](../tutorials/distribute/parameter_server_training.ipynb) tutorial for details.\n",
        "\n",
        "In TensorFlow 2, parameter server training uses a central coordinator-based architecture via the `tf.distribute.experimental.coordinator.ClusterCoordinator` class.\n",
        "\n",
        "In this implementation, the `worker` and `parameter server` tasks run `tf.distribute.Server`s that listen for tasks from the coordinator. The coordinator creates resources, dispatches training tasks, writes checkpoints, and deals with task failures.\n",
        "\n",
        "In the programming running on the coordinator, you will use a `ParameterServerStrategy` object to define a training step and use a `ClusterCoordinator` to dispatch training steps to remote workers. Here is the simplest way to create them:\n",
        "\n",
        "```python\n",
        "strategy = tf.distribute.experimental.ParameterServerStrategy(\n",
        "    tf.distribute.cluster_resolver.TFConfigClusterResolver(),\n",
        "    variable_partitioner=variable_partitioner)\n",
        "coordinator = tf.distribute.experimental.coordinator.ClusterCoordinator(\n",
        "    strategy)\n",
        "```\n",
        "\n",
        "To learn more about `ParameterServerStrategy`, check out the [Parameter server training with Keras Model.fit and a custom training loop](../tutorials/distribute/parameter_server_training.ipynb) tutorial.\n",
        "\n",
        "Note: You will need to configure the `'TF_CONFIG'` environment variable if you use `TFConfigClusterResolver`. It is similar to [`'TF_CONFIG'`](#TF_CONFIG) in `MultiWorkerMirroredStrategy` but has additional caveats.\n",
        "\n",
        "In TensorFlow 1, `ParameterServerStrategy` is available only with an Estimator via `tf.compat.v1.distribute.experimental.ParameterServerStrategy` symbol."
      ]
    },
    {
      "cell_type": "markdown",
      "metadata": {
        "id": "E20tG21LFfv1"
      },
      "source": [
        "Note: This strategy is [`experimental`](https://www.tensorflow.org/guide/versions#what_is_not_covered) as it is currently under active development."
      ]
    },
    {
      "cell_type": "markdown",
      "metadata": {
        "id": "45H0Wa8WKI8z"
      },
      "source": [
        "### CentralStorageStrategy\n",
        "`tf.distribute.experimental.CentralStorageStrategy` does synchronous training as well. Variables are not mirrored, instead they are placed on the CPU and operations are replicated across all local GPUs. If there is only one GPU, all variables and operations will be placed on that GPU.\n",
        "\n",
        "Create an instance of `CentralStorageStrategy` by:\n"
      ]
    },
    {
      "cell_type": "code",
      "execution_count": 8,
      "metadata": {
        "id": "rtjZOyaoMWrP"
      },
      "outputs": [],
      "source": [
        "central_storage_strategy = tf.distribute.experimental.CentralStorageStrategy()"
      ]
    },
    {
      "cell_type": "markdown",
      "metadata": {
        "id": "KY1nJHNkMl7b"
      },
      "source": [
        "This will create a `CentralStorageStrategy` instance which will use all visible GPUs and CPU. Update to variables on replicas will be aggregated before being applied to variables."
      ]
    },
    {
      "cell_type": "markdown",
      "metadata": {
        "id": "aAFycYUiNCUb"
      },
      "source": [
        "Note: This strategy is [`experimental`](https://www.tensorflow.org/guide/versions#what_is_not_covered), as it is currently a work in progress."
      ]
    },
    {
      "cell_type": "markdown",
      "metadata": {
        "id": "t2XUdmIxKljq"
      },
      "source": [
        "### Other strategies\n",
        "\n",
        "In addition to the above strategies, there are two other strategies which might be useful for prototyping and debugging when using `tf.distribute` APIs."
      ]
    },
    {
      "cell_type": "markdown",
      "metadata": {
        "id": "UD5I1beTpc7a"
      },
      "source": [
        "#### Default Strategy\n",
        "\n",
        "The Default Strategy is a distribution strategy which is present when no explicit distribution strategy is in scope. It implements the `tf.distribute.Strategy` interface but is a pass-through and provides no actual distribution. For instance, `Strategy.run(fn)` will simply call `fn`. Code written using this strategy should behave exactly as code written without any strategy. You can think of it as a \"no-op\" strategy.\n",
        "\n",
        "The Default Strategy is a singleton—and one cannot create more instances of it. It can be obtained using `tf.distribute.get_strategy` outside any explicit strategy's scope (the same API that can be used to get the current strategy inside an explicit strategy's scope)."
      ]
    },
    {
      "cell_type": "code",
      "execution_count": 9,
      "metadata": {
        "id": "ibHleFOOmPn9"
      },
      "outputs": [],
      "source": [
        "default_strategy = tf.distribute.get_strategy()"
      ]
    },
    {
      "cell_type": "markdown",
      "metadata": {
        "id": "EkxPl_5ImLzc"
      },
      "source": [
        "This strategy serves two main purposes:\n",
        "\n",
        "* It allows writing distribution-aware library code unconditionally. For example, in `tf.keras.optimizers` you can use `tf.distribute.get_strategy` and use that strategy for reducing gradients—it will always return a strategy object on which you can call the `Strategy.reduce` API.\n"
      ]
    },
    {
      "cell_type": "code",
      "execution_count": 10,
      "metadata": {
        "id": "WECeRzUdT6bU",
        "outputId": "6f8174a3-8aa1-4959-ccc3-5787ff0004f0",
        "colab": {
          "base_uri": "https://localhost:8080/"
        }
      },
      "outputs": [
        {
          "output_type": "execute_result",
          "data": {
            "text/plain": [
              "1.0"
            ]
          },
          "metadata": {},
          "execution_count": 10
        }
      ],
      "source": [
        "# In optimizer or other library code\n",
        "# Get currently active strategy\n",
        "strategy = tf.distribute.get_strategy()\n",
        "strategy.reduce(\"SUM\", 1., axis=None)  # reduce some values"
      ]
    },
    {
      "cell_type": "markdown",
      "metadata": {
        "id": "JURbH-pUT51B"
      },
      "source": [
        "* Similar to library code, it can be used to write end users' programs to work with and without distribution strategy, without requiring conditional logic. Here's a sample code snippet illustrating this:"
      ]
    },
    {
      "cell_type": "code",
      "execution_count": 11,
      "metadata": {
        "id": "O4Vmae5jmSE6",
        "outputId": "1c0d8325-70eb-4b97-a7af-a0defbdfa793",
        "colab": {
          "base_uri": "https://localhost:8080/"
        }
      },
      "outputs": [
        {
          "output_type": "stream",
          "name": "stdout",
          "text": [
            "<tf.Variable 'Variable:0' shape=() dtype=float32, numpy=1.0>\n"
          ]
        }
      ],
      "source": [
        "if tf.config.list_physical_devices('GPU'):\n",
        "  strategy = tf.distribute.MirroredStrategy()\n",
        "else:  # Use the Default Strategy\n",
        "  strategy = tf.distribute.get_strategy()\n",
        "\n",
        "with strategy.scope():\n",
        "  # Do something interesting\n",
        "  print(tf.Variable(1.))"
      ]
    },
    {
      "cell_type": "markdown",
      "metadata": {
        "id": "kTzsqN4lmJ0d"
      },
      "source": [
        "#### OneDeviceStrategy\n",
        "\n",
        "`tf.distribute.OneDeviceStrategy` is a strategy to place all variables and computation on a single specified device.\n",
        "\n",
        "```python\n",
        "strategy = tf.distribute.OneDeviceStrategy(device=\"/gpu:0\")\n",
        "```\n",
        "\n",
        "This strategy is distinct from the Default Strategy in a number of ways. In the Default Strategy, the variable placement logic remains unchanged when compared to running TensorFlow without any distribution strategy. But when using `OneDeviceStrategy`, all variables created in its scope are explicitly placed on the specified device. Moreover, any functions called via `OneDeviceStrategy.run` will also be placed on the specified device.\n",
        "\n",
        "Input distributed through this strategy will be prefetched to the specified device. In the Default Strategy, there is no input distribution.\n",
        "\n",
        "Similar to the Default Strategy, this strategy could also be used to test your code before switching to other strategies which actually distribute to multiple devices/machines. This will exercise the distribution strategy machinery somewhat more than the Default Strategy, but not to the full extent of using, for example, `MirroredStrategy` or `TPUStrategy`. If you want code that behaves as if there is no strategy, then use the Default Strategy."
      ]
    },
    {
      "cell_type": "markdown",
      "metadata": {
        "id": "hQv1lm9UPDFy"
      },
      "source": [
        "So far you've learned about different strategies and how you can instantiate them. The next few sections show the different ways in which you can use them to distribute your training."
      ]
    },
    {
      "cell_type": "markdown",
      "metadata": {
        "id": "_mcuy3UhPcen"
      },
      "source": [
        "## Use tf.distribute.Strategy with Keras Model.fit\n",
        "\n",
        "`tf.distribute.Strategy` is integrated into `tf.keras`, which is TensorFlow's implementation of the [Keras API specification](https://keras.io/api/). `tf.keras` is a high-level API to build and train models. By integrating into the `tf.keras` backend, it's seamless for you to distribute your training written in the Keras training framework [using Model.fit](https://www.tensorflow.org/guide/keras/customizing_what_happens_in_fit).\n",
        "\n",
        "Here's what you need to change in your code:\n",
        "\n",
        "1. Create an instance of the appropriate `tf.distribute.Strategy`.\n",
        "2. Move the creation of Keras model, optimizer and metrics inside `strategy.scope`. Thus the code in the model's `call()`, `train_step()`, and `test_step()` methods will all be distributed and executed on the accelerator(s).\n",
        "\n",
        "TensorFlow distribution strategies support all types of Keras models—[Sequential](https://www.tensorflow.org/guide/keras/sequential_model), [Functional](https://www.tensorflow.org/guide/keras/functional), and [subclassed](https://www.tensorflow.org/guide/keras/custom_layers_and_models)\n",
        "\n",
        "Here is a snippet of code to do this for a very simple Keras model with one `Dense` layer:"
      ]
    },
    {
      "cell_type": "code",
      "execution_count": 12,
      "metadata": {
        "id": "gbbcpzRnPZ6V",
        "outputId": "417c3fd2-636e-4685-98ba-7935fc3f0cde",
        "colab": {
          "base_uri": "https://localhost:8080/"
        }
      },
      "outputs": [
        {
          "output_type": "stream",
          "name": "stderr",
          "text": [
            "WARNING:tensorflow:There are non-GPU devices in `tf.distribute.Strategy`, not using nccl allreduce.\n"
          ]
        }
      ],
      "source": [
        "mirrored_strategy = tf.distribute.MirroredStrategy()\n",
        "\n",
        "with mirrored_strategy.scope():\n",
        "  model = tf.keras.Sequential([tf.keras.layers.Dense(1, input_shape=(1,))])\n",
        "\n",
        "model.compile(loss='mse', optimizer='sgd')"
      ]
    },
    {
      "cell_type": "markdown",
      "metadata": {
        "id": "773EOxCRVlTg"
      },
      "source": [
        "This example uses `MirroredStrategy`, so you can run this on a machine with multiple GPUs. `strategy.scope()` indicates to Keras which strategy to use to distribute the training. Creating models/optimizers/metrics inside this scope allows you to create distributed variables instead of regular variables. Once this is set up, you can fit your model like you would normally. `MirroredStrategy` takes care of replicating the model's training on the available GPUs, aggregating gradients, and more."
      ]
    },
    {
      "cell_type": "code",
      "execution_count": 13,
      "metadata": {
        "id": "ZMmxEFRTEjH5",
        "outputId": "194e13a8-dea2-497b-9d3c-9a5343d3807c",
        "colab": {
          "base_uri": "https://localhost:8080/"
        }
      },
      "outputs": [
        {
          "output_type": "stream",
          "name": "stdout",
          "text": [
            "Epoch 1/2\n",
            "10/10 [==============================] - 3s 3ms/step - loss: 1.7535\n",
            "Epoch 2/2\n",
            "10/10 [==============================] - 0s 3ms/step - loss: 0.7751\n",
            "10/10 [==============================] - 2s 3ms/step - loss: 0.4813\n"
          ]
        },
        {
          "output_type": "execute_result",
          "data": {
            "text/plain": [
              "0.4813253879547119"
            ]
          },
          "metadata": {},
          "execution_count": 13
        }
      ],
      "source": [
        "dataset = tf.data.Dataset.from_tensors(([1.], [1.])).repeat(100).batch(10)\n",
        "model.fit(dataset, epochs=2)\n",
        "model.evaluate(dataset)"
      ]
    },
    {
      "cell_type": "markdown",
      "metadata": {
        "id": "nofTLwyXWHK8"
      },
      "source": [
        "Here a `tf.data.Dataset` provides the training and eval input. You can also use NumPy arrays:"
      ]
    },
    {
      "cell_type": "code",
      "execution_count": 14,
      "metadata": {
        "id": "Lqgd9SdxW5OW",
        "outputId": "20892755-5d11-4bf1-8faa-e6076d4b7495",
        "colab": {
          "base_uri": "https://localhost:8080/"
        }
      },
      "outputs": [
        {
          "output_type": "stream",
          "name": "stdout",
          "text": [
            "Epoch 1/2\n",
            "10/10 [==============================] - 0s 4ms/step - loss: 0.3426\n",
            "Epoch 2/2\n",
            "10/10 [==============================] - 0s 3ms/step - loss: 0.1514\n"
          ]
        },
        {
          "output_type": "execute_result",
          "data": {
            "text/plain": [
              "<keras.callbacks.History at 0x7fe1d387e2b0>"
            ]
          },
          "metadata": {},
          "execution_count": 14
        }
      ],
      "source": [
        "import numpy as np\n",
        "\n",
        "inputs, targets = np.ones((100, 1)), np.ones((100, 1))\n",
        "model.fit(inputs, targets, epochs=2, batch_size=10)"
      ]
    },
    {
      "cell_type": "markdown",
      "metadata": {
        "id": "IKqaj7QwX0Zb"
      },
      "source": [
        "In both cases—with `Dataset` or NumPy—each batch of the given input is divided equally among the multiple replicas. For instance, if you are using the `MirroredStrategy` with 2 GPUs, each batch of size 10 will be divided among the 2 GPUs, with each receiving 5 input examples in each step. Each epoch will then train faster as you add more GPUs. Typically, you would want to increase your batch size as you add more accelerators, so as to make effective use of the extra computing power. You will also need to re-tune your learning rate, depending on the model. You can use `strategy.num_replicas_in_sync` to get the number of replicas."
      ]
    },
    {
      "cell_type": "code",
      "execution_count": 15,
      "metadata": {
        "id": "8ZmJqErtS4A1",
        "outputId": "d6c646f0-30be-489e-e258-602ba3508750",
        "colab": {
          "base_uri": "https://localhost:8080/"
        }
      },
      "outputs": [
        {
          "output_type": "execute_result",
          "data": {
            "text/plain": [
              "1"
            ]
          },
          "metadata": {},
          "execution_count": 15
        }
      ],
      "source": [
        "mirrored_strategy.num_replicas_in_sync"
      ]
    },
    {
      "cell_type": "code",
      "execution_count": 16,
      "metadata": {
        "id": "quNNTytWdGBf"
      },
      "outputs": [],
      "source": [
        "# Compute a global batch size using a number of replicas.\n",
        "BATCH_SIZE_PER_REPLICA = 5\n",
        "global_batch_size = (BATCH_SIZE_PER_REPLICA *\n",
        "                     mirrored_strategy.num_replicas_in_sync)\n",
        "dataset = tf.data.Dataset.from_tensors(([1.], [1.])).repeat(100)\n",
        "dataset = dataset.batch(global_batch_size)\n",
        "\n",
        "LEARNING_RATES_BY_BATCH_SIZE = {5: 0.1, 10: 0.15, 20:0.175}\n",
        "learning_rate = LEARNING_RATES_BY_BATCH_SIZE[global_batch_size]"
      ]
    },
    {
      "cell_type": "markdown",
      "metadata": {
        "id": "z1Muy0gDZwO5"
      },
      "source": [
        "### What's supported now?\n",
        "\n",
        "| Training API      | `MirroredStrategy` | `TPUStrategy` | `MultiWorkerMirroredStrategy` | `ParameterServerStrategy` | `CentralStorageStrategy` |\n",
        "| ----------------- | ------------------ | ------------- | ----------------------------- | ------------------------- | ------------------------ |\n",
        "| Keras `Model.fit` | Supported          | Supported     | Supported                     | Experimental support      | Experimental support     |\n",
        "\n",
        "### Examples and tutorials\n",
        "\n",
        "Here is a list of tutorials and examples that illustrate the above integration end-to-end with Keras `Model.fit`:\n",
        "\n",
        "1. [Tutorial](../tutorials/distribute/keras.ipynb): Training with `Model.fit` and `MirroredStrategy`.\n",
        "2. [Tutorial](../tutorials/distribute/multi_worker_with_keras.ipynb): Training with `Model.fit` and `MultiWorkerMirroredStrategy`.\n",
        "3. [Guide](tpu.ipynb): Contains an example of using `Model.fit` and `TPUStrategy`.\n",
        "4. [Tutorial](../tutorials/distribute/parameter_server_training.ipynb): Parameter server training with `Model.fit` and `ParameterServerStrategy`.\n",
        "5. [Tutorial](https://www.tensorflow.org/text/tutorials/bert_glue): Fine-tuning BERT for many tasks from the GLUE benchmark with `Model.fit` and `TPUStrategy`.\n",
        "6. TensorFlow Model Garden [repository](https://github.com/tensorflow/models/tree/master/official) containing collections of state-of-the-art models implemented using various strategies."
      ]
    },
    {
      "cell_type": "markdown",
      "metadata": {
        "id": "IlYVC0goepdk"
      },
      "source": [
        "## Use tf.distribute.Strategy with custom training loops\n",
        "\n",
        "As demonstrated above, using `tf.distribute.Strategy` with Keras `Model.fit` requires changing only a couple lines of your code. With a little more effort, you can also use `tf.distribute.Strategy` [with custom training loops](https://www.tensorflow.org/guide/keras/writing_a_training_loop_from_scratch).\n",
        "\n",
        "If you need more flexibility and control over your training loops than is possible with Estimator or Keras, you can write custom training loops. For instance, when using a GAN, you may want to take a different number of generator or discriminator steps each round. Similarly, the high level frameworks are not very suitable for Reinforcement Learning training.\n",
        "\n",
        "The `tf.distribute.Strategy` classes provide a core set of methods to support custom training loops. Using these may require minor restructuring of the code initially, but once that is done, you should be able to switch between GPUs, TPUs, and multiple machines simply by changing the strategy instance.\n",
        "\n",
        "Below is a brief snippet illustrating this use case for a simple training example using the same Keras model as before.\n"
      ]
    },
    {
      "cell_type": "markdown",
      "metadata": {
        "id": "XNHvSY32nVBi"
      },
      "source": [
        "First, create the model and optimizer inside the strategy's scope. This ensures that any variables created with the model and optimizer are mirrored variables."
      ]
    },
    {
      "cell_type": "code",
      "execution_count": 17,
      "metadata": {
        "id": "W-3Bn-CaiPKD"
      },
      "outputs": [],
      "source": [
        "with mirrored_strategy.scope():\n",
        "  model = tf.keras.Sequential([tf.keras.layers.Dense(1, input_shape=(1,))])\n",
        "  optimizer = tf.keras.optimizers.SGD()"
      ]
    },
    {
      "cell_type": "markdown",
      "metadata": {
        "id": "mYkAyPeYnlXk"
      },
      "source": [
        "Next, create the input dataset and call `tf.distribute.Strategy.experimental_distribute_dataset` to distribute the dataset based on the strategy."
      ]
    },
    {
      "cell_type": "code",
      "execution_count": 18,
      "metadata": {
        "id": "94BkvkLInkKd"
      },
      "outputs": [],
      "source": [
        "dataset = tf.data.Dataset.from_tensors(([1.], [1.])).repeat(1000).batch(\n",
        "    global_batch_size)\n",
        "dist_dataset = mirrored_strategy.experimental_distribute_dataset(dataset)"
      ]
    },
    {
      "cell_type": "markdown",
      "metadata": {
        "id": "grzmTlSvn2j8"
      },
      "source": [
        "Then, define one step of the training. Use `tf.GradientTape` to compute gradients and optimizer to apply those gradients to update your model's variables. To distribute this training step, put it in a function `train_step` and pass it to `tf.distribute.Strategy.run` along with the dataset inputs you got from the `dist_dataset` created before:"
      ]
    },
    {
      "cell_type": "code",
      "execution_count": 19,
      "metadata": {
        "id": "NJxL5YrVniDe"
      },
      "outputs": [],
      "source": [
        "loss_object = tf.keras.losses.BinaryCrossentropy(\n",
        "  from_logits=True,\n",
        "  reduction=tf.keras.losses.Reduction.NONE)\n",
        "\n",
        "def compute_loss(labels, predictions):\n",
        "  per_example_loss = loss_object(labels, predictions)\n",
        "  return tf.nn.compute_average_loss(per_example_loss, global_batch_size=global_batch_size)\n",
        "\n",
        "def train_step(inputs):\n",
        "  features, labels = inputs\n",
        "\n",
        "  with tf.GradientTape() as tape:\n",
        "    predictions = model(features, training=True)\n",
        "    loss = compute_loss(labels, predictions)\n",
        "\n",
        "  gradients = tape.gradient(loss, model.trainable_variables)\n",
        "  optimizer.apply_gradients(zip(gradients, model.trainable_variables))\n",
        "  return loss\n",
        "\n",
        "@tf.function\n",
        "def distributed_train_step(dist_inputs):\n",
        "  per_replica_losses = mirrored_strategy.run(train_step, args=(dist_inputs,))\n",
        "  return mirrored_strategy.reduce(tf.distribute.ReduceOp.SUM, per_replica_losses,\n",
        "                         axis=None)"
      ]
    },
    {
      "cell_type": "markdown",
      "metadata": {
        "id": "yRL5u_NLoTvq"
      },
      "source": [
        "A few other things to note in the code above:\n",
        "\n",
        "1. You used `tf.nn.compute_average_loss` to compute the loss. `tf.nn.compute_average_loss` sums the per example loss and divides the sum by the `global_batch_size`. This is important because later after the gradients are calculated on each replica, they are aggregated across the replicas by **summing** them.\n",
        "2. You also used the `tf.distribute.Strategy.reduce` API to aggregate the results returned by `tf.distribute.Strategy.run`. `tf.distribute.Strategy.run` returns results from each local replica in the strategy, and there are multiple ways to consume this result. You can `reduce` them to get an aggregated value. You can also do `tf.distribute.Strategy.experimental_local_results` to get the list of values contained in the result, one per local replica.\n",
        "3. When you call `apply_gradients` within a distribution strategy scope, its behavior is modified. Specifically, before applying gradients on each parallel instance during synchronous training, it performs a sum-over-all-replicas of the gradients.\n"
      ]
    },
    {
      "cell_type": "markdown",
      "metadata": {
        "id": "o9k_6-6vpQ-P"
      },
      "source": [
        "Finally, once you have defined the training step, you can iterate over `dist_dataset` and run the training in a loop:"
      ]
    },
    {
      "cell_type": "code",
      "execution_count": 20,
      "metadata": {
        "id": "Egq9eufToRf6",
        "outputId": "8427bb56-1410-470d-b9be-4df689c6f327",
        "colab": {
          "base_uri": "https://localhost:8080/"
        }
      },
      "outputs": [
        {
          "output_type": "stream",
          "name": "stdout",
          "text": [
            "tf.Tensor(0.20159753, shape=(), dtype=float32)\n",
            "tf.Tensor(0.20093182, shape=(), dtype=float32)\n",
            "tf.Tensor(0.20027009, shape=(), dtype=float32)\n",
            "tf.Tensor(0.1996123, shape=(), dtype=float32)\n",
            "tf.Tensor(0.19895841, shape=(), dtype=float32)\n",
            "tf.Tensor(0.19830836, shape=(), dtype=float32)\n",
            "tf.Tensor(0.19766217, shape=(), dtype=float32)\n",
            "tf.Tensor(0.19701976, shape=(), dtype=float32)\n",
            "tf.Tensor(0.19638112, shape=(), dtype=float32)\n",
            "tf.Tensor(0.19574623, shape=(), dtype=float32)\n",
            "tf.Tensor(0.19511507, shape=(), dtype=float32)\n",
            "tf.Tensor(0.19448756, shape=(), dtype=float32)\n",
            "tf.Tensor(0.19386369, shape=(), dtype=float32)\n",
            "tf.Tensor(0.19324346, shape=(), dtype=float32)\n",
            "tf.Tensor(0.19262683, shape=(), dtype=float32)\n",
            "tf.Tensor(0.19201373, shape=(), dtype=float32)\n",
            "tf.Tensor(0.19140418, shape=(), dtype=float32)\n",
            "tf.Tensor(0.19079815, shape=(), dtype=float32)\n",
            "tf.Tensor(0.19019555, shape=(), dtype=float32)\n",
            "tf.Tensor(0.18959644, shape=(), dtype=float32)\n",
            "tf.Tensor(0.18900071, shape=(), dtype=float32)\n",
            "tf.Tensor(0.18840842, shape=(), dtype=float32)\n",
            "tf.Tensor(0.1878195, shape=(), dtype=float32)\n",
            "tf.Tensor(0.18723391, shape=(), dtype=float32)\n",
            "tf.Tensor(0.1866516, shape=(), dtype=float32)\n",
            "tf.Tensor(0.1860726, shape=(), dtype=float32)\n",
            "tf.Tensor(0.18549685, shape=(), dtype=float32)\n",
            "tf.Tensor(0.18492436, shape=(), dtype=float32)\n",
            "tf.Tensor(0.18435505, shape=(), dtype=float32)\n",
            "tf.Tensor(0.18378896, shape=(), dtype=float32)\n",
            "tf.Tensor(0.18322599, shape=(), dtype=float32)\n",
            "tf.Tensor(0.18266618, shape=(), dtype=float32)\n",
            "tf.Tensor(0.18210949, shape=(), dtype=float32)\n",
            "tf.Tensor(0.1815559, shape=(), dtype=float32)\n",
            "tf.Tensor(0.18100534, shape=(), dtype=float32)\n",
            "tf.Tensor(0.18045783, shape=(), dtype=float32)\n",
            "tf.Tensor(0.17991336, shape=(), dtype=float32)\n",
            "tf.Tensor(0.17937185, shape=(), dtype=float32)\n",
            "tf.Tensor(0.17883335, shape=(), dtype=float32)\n",
            "tf.Tensor(0.17829774, shape=(), dtype=float32)\n",
            "tf.Tensor(0.17776509, shape=(), dtype=float32)\n",
            "tf.Tensor(0.17723535, shape=(), dtype=float32)\n",
            "tf.Tensor(0.17670846, shape=(), dtype=float32)\n",
            "tf.Tensor(0.17618443, shape=(), dtype=float32)\n",
            "tf.Tensor(0.17566325, shape=(), dtype=float32)\n",
            "tf.Tensor(0.1751449, shape=(), dtype=float32)\n",
            "tf.Tensor(0.17462932, shape=(), dtype=float32)\n",
            "tf.Tensor(0.17411652, shape=(), dtype=float32)\n",
            "tf.Tensor(0.1736065, shape=(), dtype=float32)\n",
            "tf.Tensor(0.17309919, shape=(), dtype=float32)\n",
            "tf.Tensor(0.17259459, shape=(), dtype=float32)\n",
            "tf.Tensor(0.17209266, shape=(), dtype=float32)\n",
            "tf.Tensor(0.17159343, shape=(), dtype=float32)\n",
            "tf.Tensor(0.17109685, shape=(), dtype=float32)\n",
            "tf.Tensor(0.17060287, shape=(), dtype=float32)\n",
            "tf.Tensor(0.17011152, shape=(), dtype=float32)\n",
            "tf.Tensor(0.16962278, shape=(), dtype=float32)\n",
            "tf.Tensor(0.16913658, shape=(), dtype=float32)\n",
            "tf.Tensor(0.16865297, shape=(), dtype=float32)\n",
            "tf.Tensor(0.16817187, shape=(), dtype=float32)\n",
            "tf.Tensor(0.16769329, shape=(), dtype=float32)\n",
            "tf.Tensor(0.1672172, shape=(), dtype=float32)\n",
            "tf.Tensor(0.16674359, shape=(), dtype=float32)\n",
            "tf.Tensor(0.16627245, shape=(), dtype=float32)\n",
            "tf.Tensor(0.16580375, shape=(), dtype=float32)\n",
            "tf.Tensor(0.16533746, shape=(), dtype=float32)\n",
            "tf.Tensor(0.16487359, shape=(), dtype=float32)\n",
            "tf.Tensor(0.1644121, shape=(), dtype=float32)\n",
            "tf.Tensor(0.16395299, shape=(), dtype=float32)\n",
            "tf.Tensor(0.16349624, shape=(), dtype=float32)\n",
            "tf.Tensor(0.16304182, shape=(), dtype=float32)\n",
            "tf.Tensor(0.16258971, shape=(), dtype=float32)\n",
            "tf.Tensor(0.16213994, shape=(), dtype=float32)\n",
            "tf.Tensor(0.16169243, shape=(), dtype=float32)\n",
            "tf.Tensor(0.16124721, shape=(), dtype=float32)\n",
            "tf.Tensor(0.16080426, shape=(), dtype=float32)\n",
            "tf.Tensor(0.16036351, shape=(), dtype=float32)\n",
            "tf.Tensor(0.159925, shape=(), dtype=float32)\n",
            "tf.Tensor(0.15948868, shape=(), dtype=float32)\n",
            "tf.Tensor(0.15905458, shape=(), dtype=float32)\n",
            "tf.Tensor(0.15862264, shape=(), dtype=float32)\n",
            "tf.Tensor(0.15819287, shape=(), dtype=float32)\n",
            "tf.Tensor(0.15776525, shape=(), dtype=float32)\n",
            "tf.Tensor(0.15733975, shape=(), dtype=float32)\n",
            "tf.Tensor(0.15691637, shape=(), dtype=float32)\n",
            "tf.Tensor(0.15649508, shape=(), dtype=float32)\n",
            "tf.Tensor(0.1560759, shape=(), dtype=float32)\n",
            "tf.Tensor(0.15565878, shape=(), dtype=float32)\n",
            "tf.Tensor(0.15524371, shape=(), dtype=float32)\n",
            "tf.Tensor(0.1548307, shape=(), dtype=float32)\n",
            "tf.Tensor(0.1544197, shape=(), dtype=float32)\n",
            "tf.Tensor(0.15401071, shape=(), dtype=float32)\n",
            "tf.Tensor(0.15360372, shape=(), dtype=float32)\n",
            "tf.Tensor(0.15319875, shape=(), dtype=float32)\n",
            "tf.Tensor(0.15279572, shape=(), dtype=float32)\n",
            "tf.Tensor(0.15239465, shape=(), dtype=float32)\n",
            "tf.Tensor(0.15199555, shape=(), dtype=float32)\n",
            "tf.Tensor(0.15159836, shape=(), dtype=float32)\n",
            "tf.Tensor(0.1512031, shape=(), dtype=float32)\n",
            "tf.Tensor(0.15080975, shape=(), dtype=float32)\n",
            "tf.Tensor(0.15041828, shape=(), dtype=float32)\n",
            "tf.Tensor(0.15002869, shape=(), dtype=float32)\n",
            "tf.Tensor(0.14964098, shape=(), dtype=float32)\n",
            "tf.Tensor(0.14925511, shape=(), dtype=float32)\n",
            "tf.Tensor(0.14887108, shape=(), dtype=float32)\n",
            "tf.Tensor(0.1484889, shape=(), dtype=float32)\n",
            "tf.Tensor(0.14810851, shape=(), dtype=float32)\n",
            "tf.Tensor(0.14772995, shape=(), dtype=float32)\n",
            "tf.Tensor(0.14735317, shape=(), dtype=float32)\n",
            "tf.Tensor(0.14697818, shape=(), dtype=float32)\n",
            "tf.Tensor(0.14660496, shape=(), dtype=float32)\n",
            "tf.Tensor(0.14623347, shape=(), dtype=float32)\n",
            "tf.Tensor(0.14586376, shape=(), dtype=float32)\n",
            "tf.Tensor(0.14549579, shape=(), dtype=float32)\n",
            "tf.Tensor(0.1451295, shape=(), dtype=float32)\n",
            "tf.Tensor(0.14476494, shape=(), dtype=float32)\n",
            "tf.Tensor(0.14440207, shape=(), dtype=float32)\n",
            "tf.Tensor(0.14404093, shape=(), dtype=float32)\n",
            "tf.Tensor(0.14368144, shape=(), dtype=float32)\n",
            "tf.Tensor(0.14332362, shape=(), dtype=float32)\n",
            "tf.Tensor(0.14296745, shape=(), dtype=float32)\n",
            "tf.Tensor(0.14261292, shape=(), dtype=float32)\n",
            "tf.Tensor(0.14226, shape=(), dtype=float32)\n",
            "tf.Tensor(0.14190875, shape=(), dtype=float32)\n",
            "tf.Tensor(0.14155906, shape=(), dtype=float32)\n",
            "tf.Tensor(0.14121102, shape=(), dtype=float32)\n",
            "tf.Tensor(0.14086455, shape=(), dtype=float32)\n",
            "tf.Tensor(0.14051965, shape=(), dtype=float32)\n",
            "tf.Tensor(0.14017634, shape=(), dtype=float32)\n",
            "tf.Tensor(0.13983457, shape=(), dtype=float32)\n",
            "tf.Tensor(0.13949436, shape=(), dtype=float32)\n",
            "tf.Tensor(0.1391557, shape=(), dtype=float32)\n",
            "tf.Tensor(0.13881856, shape=(), dtype=float32)\n",
            "tf.Tensor(0.13848293, shape=(), dtype=float32)\n",
            "tf.Tensor(0.13814883, shape=(), dtype=float32)\n",
            "tf.Tensor(0.13781624, shape=(), dtype=float32)\n",
            "tf.Tensor(0.13748513, shape=(), dtype=float32)\n",
            "tf.Tensor(0.13715549, shape=(), dtype=float32)\n",
            "tf.Tensor(0.13682733, shape=(), dtype=float32)\n",
            "tf.Tensor(0.13650064, shape=(), dtype=float32)\n",
            "tf.Tensor(0.1361754, shape=(), dtype=float32)\n",
            "tf.Tensor(0.1358516, shape=(), dtype=float32)\n",
            "tf.Tensor(0.13552924, shape=(), dtype=float32)\n",
            "tf.Tensor(0.1352083, shape=(), dtype=float32)\n",
            "tf.Tensor(0.13488878, shape=(), dtype=float32)\n",
            "tf.Tensor(0.13457066, shape=(), dtype=float32)\n",
            "tf.Tensor(0.13425393, shape=(), dtype=float32)\n",
            "tf.Tensor(0.13393863, shape=(), dtype=float32)\n",
            "tf.Tensor(0.13362469, shape=(), dtype=float32)\n",
            "tf.Tensor(0.13331212, shape=(), dtype=float32)\n",
            "tf.Tensor(0.13300091, shape=(), dtype=float32)\n",
            "tf.Tensor(0.13269106, shape=(), dtype=float32)\n",
            "tf.Tensor(0.13238257, shape=(), dtype=float32)\n",
            "tf.Tensor(0.13207541, shape=(), dtype=float32)\n",
            "tf.Tensor(0.13176958, shape=(), dtype=float32)\n",
            "tf.Tensor(0.13146508, shape=(), dtype=float32)\n",
            "tf.Tensor(0.13116191, shape=(), dtype=float32)\n",
            "tf.Tensor(0.13086002, shape=(), dtype=float32)\n",
            "tf.Tensor(0.13055943, shape=(), dtype=float32)\n",
            "tf.Tensor(0.13026014, shape=(), dtype=float32)\n",
            "tf.Tensor(0.12996213, shape=(), dtype=float32)\n",
            "tf.Tensor(0.1296654, shape=(), dtype=float32)\n",
            "tf.Tensor(0.12936996, shape=(), dtype=float32)\n",
            "tf.Tensor(0.12907575, shape=(), dtype=float32)\n",
            "tf.Tensor(0.12878278, shape=(), dtype=float32)\n",
            "tf.Tensor(0.12849106, shape=(), dtype=float32)\n",
            "tf.Tensor(0.12820059, shape=(), dtype=float32)\n",
            "tf.Tensor(0.12791136, shape=(), dtype=float32)\n",
            "tf.Tensor(0.12762333, shape=(), dtype=float32)\n",
            "tf.Tensor(0.12733652, shape=(), dtype=float32)\n",
            "tf.Tensor(0.1270509, shape=(), dtype=float32)\n",
            "tf.Tensor(0.12676649, shape=(), dtype=float32)\n",
            "tf.Tensor(0.1264833, shape=(), dtype=float32)\n",
            "tf.Tensor(0.12620126, shape=(), dtype=float32)\n",
            "tf.Tensor(0.1259204, shape=(), dtype=float32)\n",
            "tf.Tensor(0.12564074, shape=(), dtype=float32)\n",
            "tf.Tensor(0.12536222, shape=(), dtype=float32)\n",
            "tf.Tensor(0.12508486, shape=(), dtype=float32)\n",
            "tf.Tensor(0.12480865, shape=(), dtype=float32)\n",
            "tf.Tensor(0.124533586, shape=(), dtype=float32)\n",
            "tf.Tensor(0.124259666, shape=(), dtype=float32)\n",
            "tf.Tensor(0.12398688, shape=(), dtype=float32)\n",
            "tf.Tensor(0.123715185, shape=(), dtype=float32)\n",
            "tf.Tensor(0.12344463, shape=(), dtype=float32)\n",
            "tf.Tensor(0.12317517, shape=(), dtype=float32)\n",
            "tf.Tensor(0.12290683, shape=(), dtype=float32)\n",
            "tf.Tensor(0.122639574, shape=(), dtype=float32)\n",
            "tf.Tensor(0.12237342, shape=(), dtype=float32)\n",
            "tf.Tensor(0.122108355, shape=(), dtype=float32)\n",
            "tf.Tensor(0.12184439, shape=(), dtype=float32)\n",
            "tf.Tensor(0.12158146, shape=(), dtype=float32)\n",
            "tf.Tensor(0.12131963, shape=(), dtype=float32)\n",
            "tf.Tensor(0.12105882, shape=(), dtype=float32)\n",
            "tf.Tensor(0.12079908, shape=(), dtype=float32)\n",
            "tf.Tensor(0.12054038, shape=(), dtype=float32)\n",
            "tf.Tensor(0.12028273, shape=(), dtype=float32)\n",
            "tf.Tensor(0.120026104, shape=(), dtype=float32)\n",
            "tf.Tensor(0.11977052, shape=(), dtype=float32)\n",
            "tf.Tensor(0.11951593, shape=(), dtype=float32)\n",
            "tf.Tensor(0.11926239, shape=(), dtype=float32)\n"
          ]
        }
      ],
      "source": [
        "for dist_inputs in dist_dataset:\n",
        "  print(distributed_train_step(dist_inputs))"
      ]
    },
    {
      "cell_type": "markdown",
      "metadata": {
        "id": "jK8eQXF_q1Zs"
      },
      "source": [
        "In the example above, you iterated over the `dist_dataset` to provide input to your training. You are also provided with the `tf.distribute.Strategy.make_experimental_numpy_dataset` to support NumPy inputs. You can use this API to create a dataset before calling `tf.distribute.Strategy.experimental_distribute_dataset`.\n",
        "\n",
        "Another way of iterating over your data is to explicitly use iterators. You may want to do this when you want to run for a given number of steps as opposed to iterating over the entire dataset. The above iteration would now be modified to first create an iterator and then explicitly call `next` on it to get the input data."
      ]
    },
    {
      "cell_type": "code",
      "execution_count": 21,
      "metadata": {
        "id": "e5BEvR0-LJAc",
        "outputId": "985a0c03-9b77-412e-c061-ebe6dbc0cd9b",
        "colab": {
          "base_uri": "https://localhost:8080/"
        }
      },
      "outputs": [
        {
          "output_type": "stream",
          "name": "stdout",
          "text": [
            "tf.Tensor(0.119009845, shape=(), dtype=float32)\n",
            "tf.Tensor(0.118758336, shape=(), dtype=float32)\n",
            "tf.Tensor(0.1185078, shape=(), dtype=float32)\n",
            "tf.Tensor(0.11825825, shape=(), dtype=float32)\n",
            "tf.Tensor(0.11800971, shape=(), dtype=float32)\n",
            "tf.Tensor(0.11776214, shape=(), dtype=float32)\n",
            "tf.Tensor(0.11751556, shape=(), dtype=float32)\n",
            "tf.Tensor(0.117269956, shape=(), dtype=float32)\n",
            "tf.Tensor(0.11702529, shape=(), dtype=float32)\n",
            "tf.Tensor(0.11678161, shape=(), dtype=float32)\n"
          ]
        }
      ],
      "source": [
        "iterator = iter(dist_dataset)\n",
        "for _ in range(10):\n",
        "  print(distributed_train_step(next(iterator)))"
      ]
    },
    {
      "cell_type": "markdown",
      "metadata": {
        "id": "vDJO8mnypqBA"
      },
      "source": [
        "This covers the simplest case of using `tf.distribute.Strategy` API to distribute custom training loops."
      ]
    },
    {
      "cell_type": "markdown",
      "metadata": {
        "id": "BZjNwCt1qBdw"
      },
      "source": [
        "### What's supported now?\n",
        "\n",
        "| Training API         | `MirroredStrategy` | `TPUStrategy` | `MultiWorkerMirroredStrategy` | `ParameterServerStrategy` | `CentralStorageStrategy` |\n",
        "| :------------------- | :----------------- | :------------ | :---------------------------- | :------------------------ | :----------------------- |\n",
        "| Custom training loop | Supported          | Supported     | Supported                     | Experimental support      | Experimental support     |\n",
        "\n",
        "### Examples and tutorials\n",
        "\n",
        "Here are some examples for using distribution strategies with custom training loops:\n",
        "\n",
        "1. [Tutorial](../tutorials/distribute/custom_training.ipynb): Training with a custom training loop and `MirroredStrategy`.\n",
        "2. [Tutorial](../tutorials/distribute/multi_worker_with_ctl.ipynb): Training with a custom training loop and `MultiWorkerMirroredStrategy`.\n",
        "3. [Guide](tpu.ipynb): Contains an example of a custom training loop with `TPUStrategy`.\n",
        "4. [Tutorial](../tutorials/distribute/parameter_server_training.ipynb): Parameter server training with a custom training loop and `ParameterServerStrategy`.\n",
        "5. TensorFlow Model Garden [repository](https://github.com/tensorflow/models/tree/master/official) containing collections of state-of-the-art models implemented using various strategies.\n"
      ]
    },
    {
      "cell_type": "markdown",
      "metadata": {
        "id": "Xk0JdsTHyUnE"
      },
      "source": [
        "## Other topics\n",
        "\n",
        "This section covers some topics that are relevant to multiple use cases."
      ]
    },
    {
      "cell_type": "markdown",
      "metadata": {
        "id": "cP6BUIBtudRk"
      },
      "source": [
        "<a name=\"TF_CONFIG\"></a>\n",
        "### Setting up the TF\\_CONFIG environment variable\n",
        "\n",
        "For multi-worker training, as mentioned before, you need to set up the `'TF_CONFIG'` environment variable for each binary running in your cluster. The `'TF_CONFIG'` environment variable is a JSON string which specifies what tasks constitute a cluster, their addresses and each task's role in the cluster. The [`tensorflow/ecosystem`](https://github.com/tensorflow/ecosystem) repo provides a Kubernetes template, which sets up `'TF_CONFIG'` for your training tasks.\n",
        "\n",
        "There are two components of `'TF_CONFIG'`: a cluster and a task.\n",
        "\n",
        "- A cluster provides information about the training cluster, which is a dict consisting of different types of jobs such as workers. In multi-worker training, there is usually one worker that takes on a little more responsibility like saving checkpoint and writing summary file for TensorBoard in addition to what a regular worker does. Such worker is referred to as the \"chief\" worker, and it is customary that the worker with index `0` is appointed as the chief worker (in fact this is how `tf.distribute.Strategy` is implemented).\n",
        "- A task on the other hand provides information about the current task. The first component cluster is the same for all workers, and the second component task is different on each worker and specifies the type and index of that worker.\n",
        "\n",
        "One example of `'TF_CONFIG'` is:\n",
        "\n",
        "```python\n",
        "os.environ[\"TF_CONFIG\"] = json.dumps({\n",
        "    \"cluster\": {\n",
        "        \"worker\": [\"host1:port\", \"host2:port\", \"host3:port\"],\n",
        "        \"ps\": [\"host4:port\", \"host5:port\"]\n",
        "    },\n",
        "   \"task\": {\"type\": \"worker\", \"index\": 1}\n",
        "})\n",
        "```\n"
      ]
    },
    {
      "cell_type": "markdown",
      "metadata": {
        "id": "fezd3aF8wj9r"
      },
      "source": [
        "This `'TF_CONFIG'` specifies that there are three workers and two `\"ps\"` tasks in the `\"cluster\"` along with their hosts and ports. The `\"task\"` part specifies the role of the current task in the `\"cluster\"`—worker `1` (the second worker). Valid roles in a cluster are `\"chief\"`, `\"worker\"`, `\"ps\"`, and `\"evaluator\"`. There should be no `\"ps\"` job except when using `tf.distribute.experimental.ParameterServerStrategy`."
      ]
    },
    {
      "cell_type": "markdown",
      "metadata": {
        "id": "GXIbqSW-sFVg"
      },
      "source": [
        "## What's next?\n",
        "\n",
        "`tf.distribute.Strategy` is actively under development. Try it out and provide your feedback using [GitHub issues](https://github.com/tensorflow/tensorflow/issues/new)."
      ]
    }
  ],
  "metadata": {
    "colab": {
      "collapsed_sections": [
        "Tce3stUlHN0L"
      ],
      "name": "distributed_training.ipynb",
      "toc_visible": true,
      "provenance": []
    },
    "kernelspec": {
      "display_name": "Python 3",
      "name": "python3"
    }
  },
  "nbformat": 4,
  "nbformat_minor": 0
}